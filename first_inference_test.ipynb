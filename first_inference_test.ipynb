{
  "nbformat": 4,
  "nbformat_minor": 0,
  "metadata": {
    "colab": {
      "name": "first-inference-test.ipynb",
      "provenance": [],
      "collapsed_sections": [],
      "include_colab_link": true
    },
    "kernelspec": {
      "name": "python3",
      "display_name": "Python 3"
    },
    "accelerator": "GPU"
  },
  "cells": [
    {
      "cell_type": "markdown",
      "metadata": {
        "id": "view-in-github",
        "colab_type": "text"
      },
      "source": [
        "<a href=\"https://colab.research.google.com/github/SheetMusic-Team-3/semantic-music-model/blob/main/first_inference_test.ipynb\" target=\"_parent\"><img src=\"https://colab.research.google.com/assets/colab-badge.svg\" alt=\"Open In Colab\"/></a>"
      ]
    },
    {
      "cell_type": "code",
      "metadata": {
        "id": "aGA9PijccBM0",
        "colab": {
          "base_uri": "https://localhost:8080/"
        },
        "outputId": "c52bc843-0fe2-47e0-f360-77ca28c01428"
      },
      "source": [
        "%tensorflow_version 1.x"
      ],
      "execution_count": null,
      "outputs": [
        {
          "output_type": "stream",
          "text": [
            "TensorFlow 1.x selected.\n"
          ],
          "name": "stdout"
        }
      ]
    },
    {
      "cell_type": "code",
      "metadata": {
        "id": "u9KtGVonm55C"
      },
      "source": [
        "# import top-level dependencies\n",
        "import tensorflow as tf\n",
        "import cv2\n",
        "import numpy as np\n",
        "import os\n",
        "from PIL import Image\n",
        "from PIL import ImageFont\n",
        "from PIL import ImageDraw\n",
        "from zipfile import ZipFile\n",
        "import glob\n",
        "from google.colab.patches import cv2_imshow"
      ],
      "execution_count": null,
      "outputs": []
    },
    {
      "cell_type": "code",
      "metadata": {
        "colab": {
          "base_uri": "https://localhost:8080/"
        },
        "id": "z-RJGIZdiqXf",
        "outputId": "939452ea-acdf-4781-b7ee-b4ca36ae271b"
      },
      "source": [
        "# mount drive if not already mounted\n",
        "from google.colab import drive\n",
        "drive.mount('/content/drive', force_remount=True)"
      ],
      "execution_count": null,
      "outputs": [
        {
          "output_type": "stream",
          "text": [
            "Mounted at /content/drive\n"
          ],
          "name": "stdout"
        }
      ]
    },
    {
      "cell_type": "code",
      "metadata": {
        "colab": {
          "base_uri": "https://localhost:8080/"
        },
        "id": "rU7b-5Xao7Nf",
        "outputId": "ce63d243-e7d3-4890-a21d-489b47e94cef"
      },
      "source": [
        "# copy modules to path\n",
        "% env PATH_TO_TEAM_FOLDER=/content/drive/MyDrive\n",
        "% cp -r $PATH_TO_TEAM_FOLDER/Team_3_cs121S21/'Work Products'/'Semantic Model Inference'/ .\n",
        "% cd 'Semantic Model Inference'\n",
        "% ls"
      ],
      "execution_count": null,
      "outputs": [
        {
          "output_type": "stream",
          "text": [
            "env: PATH_TO_TEAM_FOLDER=/content/drive/MyDrive\n",
            "cp: cannot open '/content/drive/MyDrive/Team_3_cs121S21/Work Products/Semantic Model Inference/test-set-output/test-alpha-69.gdoc' for reading: Operation not supported\n",
            "cp: cannot open '/content/drive/MyDrive/Team_3_cs121S21/Work Products/Semantic Model Inference/test-set-output/test-alpha-74.gdoc' for reading: Operation not supported\n",
            "cp: cannot open '/content/drive/MyDrive/Team_3_cs121S21/Work Products/Semantic Model Inference/test-set-output/test-alpha-79.gdoc' for reading: Operation not supported\n",
            "cp: cannot open '/content/drive/MyDrive/Team_3_cs121S21/Work Products/Semantic Model Inference/test-set-output/test-alpha-3.gdoc' for reading: Operation not supported\n",
            "cp: cannot open '/content/drive/MyDrive/Team_3_cs121S21/Work Products/Semantic Model Inference/test-set-output/test-alpha-4.gdoc' for reading: Operation not supported\n",
            "/content/Semantic Model Inference\n",
            "ctc_utils.py                \u001b[0m\u001b[01;34mimages\u001b[0m/           \u001b[01;34mtest-set\u001b[0m/\n",
            "first-inference-test.ipynb  \u001b[01;34mmodel-artifacts\u001b[0m/  \u001b[01;34mtest-set-output\u001b[0m/\n"
          ],
          "name": "stdout"
        }
      ]
    },
    {
      "cell_type": "code",
      "metadata": {
        "id": "9C9_H3Smrb6v"
      },
      "source": [
        "# import modules\n",
        "import ctc_utils"
      ],
      "execution_count": null,
      "outputs": []
    },
    {
      "cell_type": "code",
      "metadata": {
        "id": "JiWIHX2Gqb6F"
      },
      "source": [
        "model_zip_path=\"./model-artifacts/Semantic-Model.zip\"\n",
        "# extract model files from zip\n",
        "with ZipFile(model_zip_path, 'r') as zipObj:\n",
        "   zipObj.extractall()"
      ],
      "execution_count": null,
      "outputs": []
    },
    {
      "cell_type": "code",
      "metadata": {
        "id": "GLQB-YBYjxfA"
      },
      "source": [
        "voc_path=\"./model-artifacts/vocab.txt\"\n",
        "model_path=\"./semantic-model.meta\"\n",
        "image_folder = \"./test-set\""
      ],
      "execution_count": null,
      "outputs": []
    },
    {
      "cell_type": "code",
      "metadata": {
        "id": "VNuCPwiONXL-"
      },
      "source": [
        "output_image_folder=\"./test-set-output\""
      ],
      "execution_count": null,
      "outputs": []
    },
    {
      "cell_type": "code",
      "metadata": {
        "colab": {
          "base_uri": "https://localhost:8080/"
        },
        "id": "O7JSqZQvlt6n",
        "outputId": "8958e143-9df4-496b-9c0a-e96776326a09"
      },
      "source": [
        "tf.reset_default_graph()\n",
        "sess = tf.InteractiveSession()\n",
        "\n",
        "# Read the dictionary\n",
        "dict_file = open(voc_path,'r')\n",
        "dict_list = dict_file.read().splitlines()\n",
        "int2word = dict()\n",
        "for word in dict_list:\n",
        "    word_idx = len(int2word)\n",
        "    int2word[word_idx] = word\n",
        "dict_file.close()\n",
        "\n",
        "# Restore weights\n",
        "saver = tf.train.import_meta_graph(\"semantic_model.meta\")\n",
        "saver.restore(sess,\"semantic_model.meta\"[:-5])\n",
        "\n",
        "graph = tf.get_default_graph()\n",
        "\n",
        "input = graph.get_tensor_by_name(\"model_input:0\")\n",
        "seq_len = graph.get_tensor_by_name(\"seq_lengths:0\")\n",
        "rnn_keep_prob = graph.get_tensor_by_name(\"keep_prob:0\")\n",
        "height_tensor = graph.get_tensor_by_name(\"input_height:0\")\n",
        "width_reduction_tensor = graph.get_tensor_by_name(\"width_reduction:0\")\n",
        "logits = tf.get_collection(\"logits\")[0]"
      ],
      "execution_count": null,
      "outputs": [
        {
          "output_type": "stream",
          "text": [
            "WARNING:tensorflow:The saved meta_graph is possibly from an older release:\n",
            "'model_variables' collection should be of type 'byte_list', but instead is of type 'node_list'.\n",
            "INFO:tensorflow:Restoring parameters from semantic_model\n"
          ],
          "name": "stdout"
        }
      ]
    },
    {
      "cell_type": "markdown",
      "metadata": {
        "id": "XluA3G-j2Pf8"
      },
      "source": [
        "#Single Test"
      ]
    },
    {
      "cell_type": "code",
      "metadata": {
        "colab": {
          "base_uri": "https://localhost:8080/",
          "height": 494
        },
        "id": "VhnMfxgA2Q5e",
        "outputId": "56571c70-243f-451a-e132-7688e96d4429"
      },
      "source": [
        "file_name = \"./images/test1.png\"\n",
        "\n",
        "WIDTH_REDUCTION, HEIGHT = sess.run([width_reduction_tensor, height_tensor])\n",
        "\n",
        "decoded, _ = tf.nn.ctc_greedy_decoder(logits, seq_len)\n",
        "\n",
        "image = cv2.imread(file_name,False)\n",
        "#show image\n",
        "cv2_imshow(image)\n",
        "image = ctc_utils.resize(image, HEIGHT)\n",
        "image = ctc_utils.normalize(image)\n",
        "image = np.asarray(image).reshape(1,image.shape[0],image.shape[1],1)\n",
        "\n",
        "seq_lengths = [ image.shape[2] / WIDTH_REDUCTION ]\n",
        "\n",
        "prediction = sess.run(decoded,\n",
        "                      feed_dict={\n",
        "                          input: image,\n",
        "                          seq_len: seq_lengths,\n",
        "                          rnn_keep_prob: 1.0,\n",
        "                      })\n",
        "\n",
        "str_predictions = ctc_utils.sparse_tensor_to_strs(prediction)\n",
        "for w in str_predictions[0]:\n",
        "    print(int2word[w])\n"
      ],
      "execution_count": null,
      "outputs": [
        {
          "output_type": "display_data",
          "data": {
            "image/png": "[encoded data removed]",
            "text/plain": [
              "<PIL.Image.Image image mode=L size=1040x154 at 0x7F4E99E73690>"
            ]
          },
          "metadata": {
            "tags": []
          }
        },
        {
          "output_type": "stream",
          "text": [
            "clef-C1\n",
            "keySignature-EbM\n",
            "timeSignature-2/4\n",
            "multirest-23\n",
            "barline\n",
            "rest-quarter\n",
            "rest-eighth\n",
            "note-Bb4_eighth\n",
            "barline\n",
            "note-Bb4_quarter.\n",
            "note-G4_eighth\n",
            "barline\n",
            "note-Eb5_quarter.\n",
            "note-D5_eighth\n",
            "barline\n",
            "note-C5_eighth\n",
            "note-C5_eighth\n",
            "rest-quarter\n",
            "barline\n"
          ],
          "name": "stdout"
        }
      ]
    },
    {
      "cell_type": "markdown",
      "metadata": {
        "id": "hjs3IkYH1paC"
      },
      "source": [
        "# Batch Inference"
      ]
    },
    {
      "cell_type": "code",
      "metadata": {
        "id": "cKejXkidl01E"
      },
      "source": [
        "# run batch inference\n",
        "for image_path in glob.glob(f'{image_folder}/*.png'):\n",
        "\n",
        "  # create text file\n",
        "  file_name = image_path.split(\"/\")[2][:-4]\n",
        "  if not os.path.exists(output_image_folder):\n",
        "    os.makedirs(output_image_folder)\n",
        "  out_file= open(f'{output_image_folder}/{file_name}.txt',\"w+\")\n",
        "\n",
        "  WIDTH_REDUCTION, HEIGHT = sess.run([width_reduction_tensor, height_tensor])\n",
        "\n",
        "  decoded, _ = tf.nn.ctc_greedy_decoder(logits, seq_len)\n",
        "\n",
        "  image = cv2.imread(image_path,False)\n",
        "  image = ctc_utils.resize(image, HEIGHT)\n",
        "  image = ctc_utils.normalize(image)\n",
        "  image = np.asarray(image).reshape(1,image.shape[0],image.shape[1],1)\n",
        "\n",
        "  seq_lengths = [ image.shape[2] / WIDTH_REDUCTION ]\n",
        "\n",
        "  prediction = sess.run(decoded,\n",
        "                        feed_dict={\n",
        "                            input: image,\n",
        "                            seq_len: seq_lengths,\n",
        "                            rnn_keep_prob: 1.0,\n",
        "                        })\n",
        "\n",
        "  str_predictions = ctc_utils.sparse_tensor_to_strs(prediction)\n",
        "\n",
        "  for w in str_predictions[0]:\n",
        "      out_file.write(int2word[w])\n",
        "      out_file.write('\\n')"
      ],
      "execution_count": null,
      "outputs": []
    }
  ]
}